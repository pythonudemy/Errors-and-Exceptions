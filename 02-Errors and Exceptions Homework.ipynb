{
 "cells": [
  {
   "cell_type": "markdown",
   "metadata": {},
   "source": [
    "# Errors and Exceptions Homework"
   ]
  },
  {
   "cell_type": "markdown",
   "metadata": {},
   "source": [
    "### Problem 1\n",
    "Handle the exception thrown by the code below by using <code>try</code> and <code>except</code> blocks."
   ]
  },
  {
   "cell_type": "code",
   "execution_count": null,
   "metadata": {},
   "outputs": [],
   "source": [
    "import time\n",
    "\n",
    "s = time.time() #This grabs the time that the code started.\n",
    "\n",
    "for i in ['a','b',2]:\n",
    "    try:\n",
    "        print(i**2)\n",
    "    except:\n",
    "        print('That\\'s not an integer.')\n",
    "        #Note: \"\\\" prevents the second  '  from closing the statement.\n",
    "        \n",
    "f = time.time() #Grab the time the code ends.\n",
    "\n",
    "#The following string will be formated as a float with 20 decimal places.\n",
    "print(f'{f-s:.20f}') # f-s equals how much time the code took to process."
   ]
  },
  {
   "cell_type": "markdown",
   "metadata": {},
   "source": [
    "### Problem 2\n",
    "Handle the exception thrown by the code below by using <code>try</code> and <code>except</code> blocks. Then use a <code>finally</code> block to print 'All Done.'"
   ]
  },
  {
   "cell_type": "code",
   "execution_count": null,
   "metadata": {},
   "outputs": [],
   "source": [
    "import time\n",
    "\n",
    "s = time.time()\n",
    "\n",
    "try:\n",
    "    x = 5\n",
    "    y = 0\n",
    "    \n",
    "except:\n",
    "    z = x/y\n",
    "    \n",
    "finally:\n",
    "    print('All Done.')\n",
    "    \n",
    "f = time.time()\n",
    "\n",
    "print(f'{f-s:.20f}')"
   ]
  },
  {
   "cell_type": "markdown",
   "metadata": {},
   "source": [
    "### Problem 3\n",
    "Write a function that asks for an integer and prints the square of it. Use a <code>while</code> loop with a <code>try</code>, <code>except</code>, <code>else</code> block to account for incorrect inputs."
   ]
  },
  {
   "cell_type": "code",
   "execution_count": null,
   "metadata": {},
   "outputs": [],
   "source": [
    "import time\n",
    "\n",
    "def ask():\n",
    "    \n",
    "    while True:\n",
    "        \n",
    "        \n",
    "        s = time.time()\n",
    "        \n",
    "        try:\n",
    "            n = int(input('Enter an integer: '))\n",
    "\n",
    "        except:\n",
    "            print('An error occured!  Please try again!')\n",
    "\n",
    "        else:\n",
    "            print('Thank you, your number squared is: ' , n**2)\n",
    "            \n",
    "        f = time.time()\n",
    "\n",
    "        print(f'{f-s:.20f}')"
   ]
  },
  {
   "cell_type": "code",
   "execution_count": null,
   "metadata": {},
   "outputs": [],
   "source": [
    "ask()"
   ]
  },
  {
   "cell_type": "markdown",
   "metadata": {},
   "source": [
    "# Great Job!"
   ]
  }
 ],
 "metadata": {
  "kernelspec": {
   "display_name": "Python 3",
   "language": "python",
   "name": "python3"
  },
  "language_info": {
   "codemirror_mode": {
    "name": "ipython",
    "version": 3
   },
   "file_extension": ".py",
   "mimetype": "text/x-python",
   "name": "python",
   "nbconvert_exporter": "python",
   "pygments_lexer": "ipython3",
   "version": "3.6.4"
  }
 },
 "nbformat": 4,
 "nbformat_minor": 1
}
